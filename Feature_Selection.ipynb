{
 "cells": [
  {
   "cell_type": "code",
   "execution_count": null,
   "id": "073acaef",
   "metadata": {},
   "outputs": [],
   "source": [
    "from sklearn.linear_model import Lasso\n",
    "from sklearn.preprocessing import StandardScaler\n",
    "from sklearn.pipeline import Pipeline\n",
    "from sklearn.model_selection import GridSearchCV, train_test_split"
   ]
  },
  {
   "cell_type": "code",
   "execution_count": null,
   "id": "eb792e91",
   "metadata": {},
   "outputs": [],
   "source": [
    "X = pd.concat([df_normalized.iloc[:, :13], df.iloc[:, 14:]], axis=1)\n",
    "y = df_normalized.iloc[:, 13]\n",
    "print(f\"Shape of X: {X.shape}\")\n",
    "print(f\"Shape of y: {y.shape}\")\n",
    "feature_names = np.array(X.columns)"
   ]
  },
  {
   "cell_type": "code",
   "execution_count": null,
   "id": "67303ba9",
   "metadata": {},
   "outputs": [],
   "source": [
    "X_train, X_test, y_train, y_test = train_test_split(X, y, test_size=0.33)\n",
    "pipeline = Pipeline([\n",
    "    ('scaler', StandardScaler()),\n",
    "    ('model', Lasso())\n",
    "])\n",
    "param_grid = {'model__alpha': np.arange(0.005, 3, 0.1)}\n",
    "search = GridSearchCV(\n",
    "    pipeline,\n",
    "    param_grid=param_grid,\n",
    "    cv=5,\n",
    "    scoring='neg_mean_squared_error'\n",
    ")"
   ]
  },
  {
   "cell_type": "code",
   "execution_count": null,
   "id": "291561a4",
   "metadata": {},
   "outputs": [],
   "source": [
    "search.fit(X_train, y_train)\n",
    "coef = search.best_estimator_[1].coef_\n",
    "selected_features = feature_names[coef != 0]\n",
    "X_train = X_train[selected_features]\n",
    "X_test = X_test[selected_features]\n",
    "print(X_train.columns)\n",
    "print(X_test.columns)"
   ]
  }
 ],
 "metadata": {
  "kernelspec": {
   "display_name": "Python 3",
   "language": "python",
   "name": "python3"
  },
  "language_info": {
   "codemirror_mode": {
    "name": "ipython",
    "version": 3
   },
   "file_extension": ".py",
   "mimetype": "text/x-python",
   "name": "python",
   "nbconvert_exporter": "python",
   "pygments_lexer": "ipython3",
   "version": "3.6.13"
  }
 },
 "nbformat": 4,
 "nbformat_minor": 5
}
