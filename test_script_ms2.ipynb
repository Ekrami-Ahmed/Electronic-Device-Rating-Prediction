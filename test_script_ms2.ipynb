{
 "cells": [
  {
   "cell_type": "code",
   "execution_count": 137,
   "id": "ea4f55c7",
   "metadata": {},
   "outputs": [],
   "source": [
    "import pandas as pd\n",
    "import numpy as np\n",
    "import matplotlib.pyplot as plt\n",
    "import seaborn as sns\n",
    "from sklearn.preprocessing import LabelEncoder\n",
    "import pickle\n",
    "from sklearn import metrics"
   ]
  },
  {
   "cell_type": "code",
   "execution_count": 138,
   "id": "200f165e",
   "metadata": {},
   "outputs": [],
   "source": [
    "data = pd.read_csv(\"ElecDeviceRatingPrediction_Milestone2.csv\")"
   ]
  },
  {
   "cell_type": "code",
   "execution_count": 139,
   "id": "86b177de",
   "metadata": {},
   "outputs": [
    {
     "data": {
      "text/html": [
       "<div>\n",
       "<style scoped>\n",
       "    .dataframe tbody tr th:only-of-type {\n",
       "        vertical-align: middle;\n",
       "    }\n",
       "\n",
       "    .dataframe tbody tr th {\n",
       "        vertical-align: top;\n",
       "    }\n",
       "\n",
       "    .dataframe thead th {\n",
       "        text-align: right;\n",
       "    }\n",
       "</style>\n",
       "<table border=\"1\" class=\"dataframe\">\n",
       "  <thead>\n",
       "    <tr style=\"text-align: right;\">\n",
       "      <th></th>\n",
       "      <th>brand</th>\n",
       "      <th>processor_brand</th>\n",
       "      <th>processor_name</th>\n",
       "      <th>processor_gnrtn</th>\n",
       "      <th>ram_gb</th>\n",
       "      <th>ram_type</th>\n",
       "      <th>ssd</th>\n",
       "      <th>hdd</th>\n",
       "      <th>os</th>\n",
       "      <th>graphic_card_gb</th>\n",
       "      <th>weight</th>\n",
       "      <th>warranty</th>\n",
       "      <th>Touchscreen</th>\n",
       "      <th>msoffice</th>\n",
       "      <th>Price</th>\n",
       "      <th>rating</th>\n",
       "      <th>Number of Ratings</th>\n",
       "      <th>Number of Reviews</th>\n",
       "    </tr>\n",
       "  </thead>\n",
       "  <tbody>\n",
       "    <tr>\n",
       "      <th>0</th>\n",
       "      <td>ASUS</td>\n",
       "      <td>Intel</td>\n",
       "      <td>Pentium Quad</td>\n",
       "      <td>Not Available</td>\n",
       "      <td>4 GB</td>\n",
       "      <td>LPDDR4X</td>\n",
       "      <td>0 GB</td>\n",
       "      <td>512 GB</td>\n",
       "      <td>64-bit Windows</td>\n",
       "      <td>0 GB</td>\n",
       "      <td>Casual</td>\n",
       "      <td>No warranty</td>\n",
       "      <td>No</td>\n",
       "      <td>No</td>\n",
       "      <td>45990</td>\n",
       "      <td>Bad Rating</td>\n",
       "      <td>0</td>\n",
       "      <td>0</td>\n",
       "    </tr>\n",
       "    <tr>\n",
       "      <th>1</th>\n",
       "      <td>ASUS</td>\n",
       "      <td>Intel</td>\n",
       "      <td>Core i5</td>\n",
       "      <td>10th</td>\n",
       "      <td>8 GB</td>\n",
       "      <td>LPDDR4</td>\n",
       "      <td>0 GB</td>\n",
       "      <td>512 GB</td>\n",
       "      <td>32-bit DOS</td>\n",
       "      <td>4 GB</td>\n",
       "      <td>Casual</td>\n",
       "      <td>No warranty</td>\n",
       "      <td>No</td>\n",
       "      <td>No</td>\n",
       "      <td>106167</td>\n",
       "      <td>Good Rating</td>\n",
       "      <td>1881</td>\n",
       "      <td>241</td>\n",
       "    </tr>\n",
       "    <tr>\n",
       "      <th>2</th>\n",
       "      <td>ASUS</td>\n",
       "      <td>Intel</td>\n",
       "      <td>Celeron Dual</td>\n",
       "      <td>Not Available</td>\n",
       "      <td>4 GB</td>\n",
       "      <td>DDR4</td>\n",
       "      <td>0 GB</td>\n",
       "      <td>512 GB</td>\n",
       "      <td>64-bit Windows</td>\n",
       "      <td>0 GB</td>\n",
       "      <td>Casual</td>\n",
       "      <td>No warranty</td>\n",
       "      <td>No</td>\n",
       "      <td>No</td>\n",
       "      <td>22990</td>\n",
       "      <td>Bad Rating</td>\n",
       "      <td>0</td>\n",
       "      <td>0</td>\n",
       "    </tr>\n",
       "    <tr>\n",
       "      <th>3</th>\n",
       "      <td>Lenovo</td>\n",
       "      <td>Intel</td>\n",
       "      <td>Core i3</td>\n",
       "      <td>11th</td>\n",
       "      <td>4 GB</td>\n",
       "      <td>DDR4</td>\n",
       "      <td>256 GB</td>\n",
       "      <td>0 GB</td>\n",
       "      <td>64-bit Windows</td>\n",
       "      <td>0 GB</td>\n",
       "      <td>Casual</td>\n",
       "      <td>1 year</td>\n",
       "      <td>No</td>\n",
       "      <td>Yes</td>\n",
       "      <td>44990</td>\n",
       "      <td>Good Rating</td>\n",
       "      <td>42</td>\n",
       "      <td>4</td>\n",
       "    </tr>\n",
       "    <tr>\n",
       "      <th>4</th>\n",
       "      <td>HP</td>\n",
       "      <td>AMD</td>\n",
       "      <td>Ryzen 7</td>\n",
       "      <td>Not Available</td>\n",
       "      <td>16 GB</td>\n",
       "      <td>DDR4</td>\n",
       "      <td>512 GB</td>\n",
       "      <td>0 GB</td>\n",
       "      <td>64-bit Windows</td>\n",
       "      <td>2 GB</td>\n",
       "      <td>Casual</td>\n",
       "      <td>1 year</td>\n",
       "      <td>No</td>\n",
       "      <td>Yes</td>\n",
       "      <td>79990</td>\n",
       "      <td>Bad Rating</td>\n",
       "      <td>23</td>\n",
       "      <td>6</td>\n",
       "    </tr>\n",
       "  </tbody>\n",
       "</table>\n",
       "</div>"
      ],
      "text/plain": [
       "    brand processor_brand processor_name processor_gnrtn ram_gb ram_type  \\\n",
       "0    ASUS           Intel   Pentium Quad   Not Available   4 GB  LPDDR4X   \n",
       "1    ASUS           Intel        Core i5            10th   8 GB   LPDDR4   \n",
       "2    ASUS           Intel   Celeron Dual   Not Available   4 GB     DDR4   \n",
       "3  Lenovo           Intel        Core i3            11th   4 GB     DDR4   \n",
       "4      HP             AMD        Ryzen 7   Not Available  16 GB     DDR4   \n",
       "\n",
       "      ssd     hdd              os graphic_card_gb  weight     warranty  \\\n",
       "0    0 GB  512 GB  64-bit Windows            0 GB  Casual  No warranty   \n",
       "1    0 GB  512 GB      32-bit DOS            4 GB  Casual  No warranty   \n",
       "2    0 GB  512 GB  64-bit Windows            0 GB  Casual  No warranty   \n",
       "3  256 GB    0 GB  64-bit Windows            0 GB  Casual       1 year   \n",
       "4  512 GB    0 GB  64-bit Windows            2 GB  Casual       1 year   \n",
       "\n",
       "  Touchscreen msoffice   Price       rating  Number of Ratings  \\\n",
       "0          No       No   45990   Bad Rating                  0   \n",
       "1          No       No  106167  Good Rating               1881   \n",
       "2          No       No   22990   Bad Rating                  0   \n",
       "3          No      Yes   44990  Good Rating                 42   \n",
       "4          No      Yes   79990   Bad Rating                 23   \n",
       "\n",
       "   Number of Reviews  \n",
       "0                  0  \n",
       "1                241  \n",
       "2                  0  \n",
       "3                  4  \n",
       "4                  6  "
      ]
     },
     "execution_count": 139,
     "metadata": {},
     "output_type": "execute_result"
    }
   ],
   "source": [
    "data.head()"
   ]
  },
  {
   "cell_type": "code",
   "execution_count": 140,
   "id": "476a5f2a",
   "metadata": {},
   "outputs": [],
   "source": [
    "mode_value = data['processor_gnrtn'].mode()[0]\n",
    "\n",
    "# Replace 'not available' with the mode\n",
    "data.loc[data['processor_gnrtn'] == 'Not Available', 'processor_gnrtn'] = mode_value"
   ]
  },
  {
   "cell_type": "code",
   "execution_count": 141,
   "id": "59bbfafe",
   "metadata": {},
   "outputs": [
    {
     "name": "stderr",
     "output_type": "stream",
     "text": [
      "d:\\myApps\\anaconda\\lib\\site-packages\\sklearn\\base.py:329: UserWarning: Trying to unpickle estimator LabelEncoder from version 0.24.2 when using version 1.0.2. This might lead to breaking code or invalid results. Use at your own risk. For more info please refer to:\n",
      "https://scikit-learn.org/stable/modules/model_persistence.html#security-maintainability-limitations\n",
      "  warnings.warn(\n"
     ]
    }
   ],
   "source": [
    "with open('label_encoders_ms2.pkl', 'rb') as f:\n",
    "    loaded_label_encoders = pickle.load(f)"
   ]
  },
  {
   "cell_type": "code",
   "execution_count": 142,
   "id": "7982e019",
   "metadata": {},
   "outputs": [],
   "source": [
    "def encoding_test(classes, X_test, column, label_encoders, cnt):\n",
    "    encoded_values = []\n",
    "    errors = {}\n",
    "    for val in X_test[column]:\n",
    "        try:\n",
    "            if val in errors.keys():\n",
    "                encoded_values.append(errors[val])\n",
    "            else:\n",
    "                val = label_encoders[column].transform(val)\n",
    "                encoded_values.append(val)\n",
    "        except ValueError as e:\n",
    "            errors[val] = cnt\n",
    "            encoded_values.append(cnt)\n",
    "            np.append(label_encoders[column].classes_, cnt)\n",
    "            cnt+=1\n",
    "    return encoded_values"
   ]
  },
  {
   "cell_type": "code",
   "execution_count": 143,
   "id": "ef7a2b8e",
   "metadata": {},
   "outputs": [],
   "source": [
    "\n",
    "encode = ['brand','processor_brand','processor_name','ram_type','os','weight','warranty', 'processor_gnrtn', 'rating']\n",
    "\n",
    "for column in encode:\n",
    "    \n",
    "    train_values_count = len(loaded_label_encoders[column].classes_)\n",
    "    try:\n",
    "        # Transform the test data\n",
    "        data[column] = loaded_label_encoders[column].transform(data[column])\n",
    "    except ValueError as e:\n",
    "        # If ValueError occurs (unseen labels), handle it by assigning a default value\n",
    "        print(f\"Error occurred for column '{column}': {e}\")\n",
    "        data[column] = encoding_test(loaded_label_encoders[column].classes_, data, column, loaded_label_encoders, train_values_count)\n",
    "        print(data[column].unique())\n",
    "        #X_test[column] = X_test[column].apply(encoding_test(label_encoders[column].classes_))"
   ]
  },
  {
   "cell_type": "code",
   "execution_count": null,
   "id": "3718090a",
   "metadata": {},
   "outputs": [],
   "source": []
  },
  {
   "cell_type": "code",
   "execution_count": 144,
   "id": "c2d80f7a",
   "metadata": {},
   "outputs": [],
   "source": [
    "def one_hot_encoding(df):\n",
    "    one_encoded_data = pd.get_dummies(df, columns=df.columns)\n",
    "    one_encoded_data [one_encoded_data  != False] = 1\n",
    "    one_encoded_data [one_encoded_data  != True] = 0\n",
    "    one_encoded_data.head()\n",
    "    for col in one_encoded_data.columns:\n",
    "        one_encoded_data[col] = one_encoded_data[col].astype(int)\n",
    "    one_encoded_data.info()\n",
    "    return one_encoded_data"
   ]
  },
  {
   "cell_type": "code",
   "execution_count": 145,
   "id": "c32268e1",
   "metadata": {},
   "outputs": [],
   "source": [
    "def conc_datas(df1, df2):\n",
    "    result = pd.concat([df1, df2], axis=1)\n",
    "    return result"
   ]
  },
  {
   "cell_type": "code",
   "execution_count": 146,
   "id": "d816223a",
   "metadata": {},
   "outputs": [
    {
     "name": "stderr",
     "output_type": "stream",
     "text": [
      "d:\\myApps\\anaconda\\lib\\site-packages\\sklearn\\base.py:329: UserWarning: Trying to unpickle estimator SelectKBest from version 0.24.2 when using version 1.0.2. This might lead to breaking code or invalid results. Use at your own risk. For more info please refer to:\n",
      "https://scikit-learn.org/stable/modules/model_persistence.html#security-maintainability-limitations\n",
      "  warnings.warn(\n"
     ]
    }
   ],
   "source": [
    "with open('selected_features_ms2.pkl', 'rb') as f:\n",
    "    selector = pickle.load(f)"
   ]
  },
  {
   "cell_type": "code",
   "execution_count": 147,
   "id": "880e447c",
   "metadata": {},
   "outputs": [
    {
     "name": "stderr",
     "output_type": "stream",
     "text": [
      "d:\\myApps\\anaconda\\lib\\site-packages\\sklearn\\base.py:329: UserWarning: Trying to unpickle estimator LogisticRegression from version 0.24.2 when using version 1.0.2. This might lead to breaking code or invalid results. Use at your own risk. For more info please refer to:\n",
      "https://scikit-learn.org/stable/modules/model_persistence.html#security-maintainability-limitations\n",
      "  warnings.warn(\n"
     ]
    }
   ],
   "source": [
    "with open('ogreg_ms2.pkl', 'rb') as f:\n",
    "    ogreg_ms2 = pickle.load(f)"
   ]
  },
  {
   "cell_type": "code",
   "execution_count": 148,
   "id": "d1234ace",
   "metadata": {},
   "outputs": [
    {
     "name": "stderr",
     "output_type": "stream",
     "text": [
      "d:\\myApps\\anaconda\\lib\\site-packages\\sklearn\\base.py:329: UserWarning: Trying to unpickle estimator SVC from version 0.24.2 when using version 1.0.2. This might lead to breaking code or invalid results. Use at your own risk. For more info please refer to:\n",
      "https://scikit-learn.org/stable/modules/model_persistence.html#security-maintainability-limitations\n",
      "  warnings.warn(\n"
     ]
    }
   ],
   "source": [
    "with open('svc_classifier.pkl', 'rb') as f:\n",
    "    svc_classifier = pickle.load(f)"
   ]
  },
  {
   "cell_type": "code",
   "execution_count": 149,
   "id": "76192fcd",
   "metadata": {},
   "outputs": [
    {
     "name": "stderr",
     "output_type": "stream",
     "text": [
      "d:\\myApps\\anaconda\\lib\\site-packages\\sklearn\\base.py:329: UserWarning: Trying to unpickle estimator DecisionTreeClassifier from version 0.24.2 when using version 1.0.2. This might lead to breaking code or invalid results. Use at your own risk. For more info please refer to:\n",
      "https://scikit-learn.org/stable/modules/model_persistence.html#security-maintainability-limitations\n",
      "  warnings.warn(\n",
      "d:\\myApps\\anaconda\\lib\\site-packages\\sklearn\\base.py:329: UserWarning: Trying to unpickle estimator RandomForestClassifier from version 0.24.2 when using version 1.0.2. This might lead to breaking code or invalid results. Use at your own risk. For more info please refer to:\n",
      "https://scikit-learn.org/stable/modules/model_persistence.html#security-maintainability-limitations\n",
      "  warnings.warn(\n"
     ]
    }
   ],
   "source": [
    "with open('rf_classifier.pkl', 'rb') as f:\n",
    "    rf_classifier = pickle.load(f)"
   ]
  },
  {
   "cell_type": "code",
   "execution_count": 150,
   "id": "a21f09c0",
   "metadata": {},
   "outputs": [],
   "source": [
    "def normalization(df):\n",
    "    df_normalized = np.log(df+1e-10)\n",
    "    df_normalized[np.isinf(df_normalized)] = 0\n",
    "    return df_normalized"
   ]
  },
  {
   "cell_type": "code",
   "execution_count": 151,
   "id": "bd705eac",
   "metadata": {},
   "outputs": [],
   "source": [
    "def split_GB(df):    \n",
    "    colToProcess=['ram_gb','ssd','hdd','graphic_card_gb']\n",
    "    for col in colToProcess:\n",
    "        splitted_data = df[col].str.split(' ')\n",
    "        df[col] = [row[0] for row in splitted_data]\n",
    "        df[col] = df[col].astype(int)\n",
    "    \n",
    "    return df"
   ]
  },
  {
   "cell_type": "code",
   "execution_count": null,
   "id": "da19aadf",
   "metadata": {},
   "outputs": [],
   "source": []
  },
  {
   "cell_type": "code",
   "execution_count": null,
   "id": "e07fb87c",
   "metadata": {},
   "outputs": [],
   "source": []
  },
  {
   "cell_type": "code",
   "execution_count": 152,
   "id": "7595b9d8",
   "metadata": {},
   "outputs": [],
   "source": [
    "has_ssd = []\n",
    "for index, row in data.iterrows():\n",
    "    ssd = row['ssd']\n",
    "    hdd = row['hdd']\n",
    "    \n",
    "    if ssd == '0 GB' and hdd != '0 GB':\n",
    "        has_ssd.append('has only hdd')\n",
    "    elif ssd != '0 GB' and hdd == '0 GB':\n",
    "        has_ssd.append('has only ssd')\n",
    "    else:\n",
    "        has_ssd.append('has ssd and hdd')\n"
   ]
  },
  {
   "cell_type": "code",
   "execution_count": 153,
   "id": "d353437f",
   "metadata": {},
   "outputs": [],
   "source": [
    "data = split_GB(data)"
   ]
  },
  {
   "cell_type": "code",
   "execution_count": null,
   "id": "b5dfedfa",
   "metadata": {},
   "outputs": [],
   "source": []
  },
  {
   "cell_type": "code",
   "execution_count": 154,
   "id": "90f0b9cc",
   "metadata": {},
   "outputs": [],
   "source": [
    "x = data.drop('rating', axis=1)\n",
    "y = data['rating']"
   ]
  },
  {
   "cell_type": "code",
   "execution_count": 155,
   "id": "5e07ddc6",
   "metadata": {},
   "outputs": [
    {
     "data": {
      "text/plain": [
       "0    0\n",
       "1    1\n",
       "2    0\n",
       "3    1\n",
       "4    0\n",
       "Name: rating, dtype: int32"
      ]
     },
     "execution_count": 155,
     "metadata": {},
     "output_type": "execute_result"
    }
   ],
   "source": [
    "x.head()\n",
    "y.head()"
   ]
  },
  {
   "cell_type": "code",
   "execution_count": 156,
   "id": "83d3181b",
   "metadata": {},
   "outputs": [
    {
     "name": "stdout",
     "output_type": "stream",
     "text": [
      "<class 'pandas.core.frame.DataFrame'>\n",
      "RangeIndex: 723 entries, 0 to 722\n",
      "Data columns (total 4 columns):\n",
      " #   Column           Non-Null Count  Dtype\n",
      "---  ------           --------------  -----\n",
      " 0   Touchscreen_No   723 non-null    int32\n",
      " 1   Touchscreen_Yes  723 non-null    int32\n",
      " 2   msoffice_No      723 non-null    int32\n",
      " 3   msoffice_Yes     723 non-null    int32\n",
      "dtypes: int32(4)\n",
      "memory usage: 11.4 KB\n"
     ]
    }
   ],
   "source": [
    "data_hot_encoded = one_hot_encoding(x[['Touchscreen','msoffice']])"
   ]
  },
  {
   "cell_type": "code",
   "execution_count": 157,
   "id": "3cbd1fe3",
   "metadata": {},
   "outputs": [],
   "source": [
    "all_data_encoded = conc_datas(x, data_hot_encoded)"
   ]
  },
  {
   "cell_type": "code",
   "execution_count": 158,
   "id": "fab3f0e7",
   "metadata": {},
   "outputs": [
    {
     "data": {
      "text/html": [
       "<div>\n",
       "<style scoped>\n",
       "    .dataframe tbody tr th:only-of-type {\n",
       "        vertical-align: middle;\n",
       "    }\n",
       "\n",
       "    .dataframe tbody tr th {\n",
       "        vertical-align: top;\n",
       "    }\n",
       "\n",
       "    .dataframe thead th {\n",
       "        text-align: right;\n",
       "    }\n",
       "</style>\n",
       "<table border=\"1\" class=\"dataframe\">\n",
       "  <thead>\n",
       "    <tr style=\"text-align: right;\">\n",
       "      <th></th>\n",
       "      <th>brand</th>\n",
       "      <th>processor_brand</th>\n",
       "      <th>processor_name</th>\n",
       "      <th>processor_gnrtn</th>\n",
       "      <th>ram_gb</th>\n",
       "      <th>ram_type</th>\n",
       "      <th>ssd</th>\n",
       "      <th>hdd</th>\n",
       "      <th>os</th>\n",
       "      <th>graphic_card_gb</th>\n",
       "      <th>weight</th>\n",
       "      <th>warranty</th>\n",
       "      <th>Price</th>\n",
       "      <th>Number of Ratings</th>\n",
       "      <th>Number of Reviews</th>\n",
       "      <th>Touchscreen_No</th>\n",
       "      <th>Touchscreen_Yes</th>\n",
       "      <th>msoffice_No</th>\n",
       "      <th>msoffice_Yes</th>\n",
       "    </tr>\n",
       "  </thead>\n",
       "  <tbody>\n",
       "    <tr>\n",
       "      <th>0</th>\n",
       "      <td>1</td>\n",
       "      <td>1</td>\n",
       "      <td>6</td>\n",
       "      <td>1</td>\n",
       "      <td>4</td>\n",
       "      <td>5</td>\n",
       "      <td>0</td>\n",
       "      <td>512</td>\n",
       "      <td>4</td>\n",
       "      <td>0</td>\n",
       "      <td>0</td>\n",
       "      <td>3</td>\n",
       "      <td>45990</td>\n",
       "      <td>0</td>\n",
       "      <td>0</td>\n",
       "      <td>1</td>\n",
       "      <td>0</td>\n",
       "      <td>1</td>\n",
       "      <td>0</td>\n",
       "    </tr>\n",
       "    <tr>\n",
       "      <th>1</th>\n",
       "      <td>1</td>\n",
       "      <td>1</td>\n",
       "      <td>2</td>\n",
       "      <td>0</td>\n",
       "      <td>8</td>\n",
       "      <td>4</td>\n",
       "      <td>0</td>\n",
       "      <td>512</td>\n",
       "      <td>0</td>\n",
       "      <td>4</td>\n",
       "      <td>0</td>\n",
       "      <td>3</td>\n",
       "      <td>106167</td>\n",
       "      <td>1881</td>\n",
       "      <td>241</td>\n",
       "      <td>1</td>\n",
       "      <td>0</td>\n",
       "      <td>1</td>\n",
       "      <td>0</td>\n",
       "    </tr>\n",
       "    <tr>\n",
       "      <th>2</th>\n",
       "      <td>1</td>\n",
       "      <td>1</td>\n",
       "      <td>0</td>\n",
       "      <td>1</td>\n",
       "      <td>4</td>\n",
       "      <td>1</td>\n",
       "      <td>0</td>\n",
       "      <td>512</td>\n",
       "      <td>4</td>\n",
       "      <td>0</td>\n",
       "      <td>0</td>\n",
       "      <td>3</td>\n",
       "      <td>22990</td>\n",
       "      <td>0</td>\n",
       "      <td>0</td>\n",
       "      <td>1</td>\n",
       "      <td>0</td>\n",
       "      <td>1</td>\n",
       "      <td>0</td>\n",
       "    </tr>\n",
       "    <tr>\n",
       "      <th>3</th>\n",
       "      <td>5</td>\n",
       "      <td>1</td>\n",
       "      <td>1</td>\n",
       "      <td>1</td>\n",
       "      <td>4</td>\n",
       "      <td>1</td>\n",
       "      <td>256</td>\n",
       "      <td>0</td>\n",
       "      <td>4</td>\n",
       "      <td>0</td>\n",
       "      <td>0</td>\n",
       "      <td>0</td>\n",
       "      <td>44990</td>\n",
       "      <td>42</td>\n",
       "      <td>4</td>\n",
       "      <td>1</td>\n",
       "      <td>0</td>\n",
       "      <td>0</td>\n",
       "      <td>1</td>\n",
       "    </tr>\n",
       "    <tr>\n",
       "      <th>4</th>\n",
       "      <td>4</td>\n",
       "      <td>0</td>\n",
       "      <td>9</td>\n",
       "      <td>1</td>\n",
       "      <td>16</td>\n",
       "      <td>1</td>\n",
       "      <td>512</td>\n",
       "      <td>0</td>\n",
       "      <td>4</td>\n",
       "      <td>2</td>\n",
       "      <td>0</td>\n",
       "      <td>0</td>\n",
       "      <td>79990</td>\n",
       "      <td>23</td>\n",
       "      <td>6</td>\n",
       "      <td>1</td>\n",
       "      <td>0</td>\n",
       "      <td>0</td>\n",
       "      <td>1</td>\n",
       "    </tr>\n",
       "    <tr>\n",
       "      <th>...</th>\n",
       "      <td>...</td>\n",
       "      <td>...</td>\n",
       "      <td>...</td>\n",
       "      <td>...</td>\n",
       "      <td>...</td>\n",
       "      <td>...</td>\n",
       "      <td>...</td>\n",
       "      <td>...</td>\n",
       "      <td>...</td>\n",
       "      <td>...</td>\n",
       "      <td>...</td>\n",
       "      <td>...</td>\n",
       "      <td>...</td>\n",
       "      <td>...</td>\n",
       "      <td>...</td>\n",
       "      <td>...</td>\n",
       "      <td>...</td>\n",
       "      <td>...</td>\n",
       "      <td>...</td>\n",
       "    </tr>\n",
       "    <tr>\n",
       "      <th>718</th>\n",
       "      <td>5</td>\n",
       "      <td>1</td>\n",
       "      <td>1</td>\n",
       "      <td>1</td>\n",
       "      <td>4</td>\n",
       "      <td>1</td>\n",
       "      <td>256</td>\n",
       "      <td>0</td>\n",
       "      <td>4</td>\n",
       "      <td>0</td>\n",
       "      <td>0</td>\n",
       "      <td>3</td>\n",
       "      <td>39998</td>\n",
       "      <td>10</td>\n",
       "      <td>1</td>\n",
       "      <td>1</td>\n",
       "      <td>0</td>\n",
       "      <td>1</td>\n",
       "      <td>0</td>\n",
       "    </tr>\n",
       "    <tr>\n",
       "      <th>719</th>\n",
       "      <td>4</td>\n",
       "      <td>1</td>\n",
       "      <td>1</td>\n",
       "      <td>1</td>\n",
       "      <td>8</td>\n",
       "      <td>1</td>\n",
       "      <td>512</td>\n",
       "      <td>0</td>\n",
       "      <td>4</td>\n",
       "      <td>0</td>\n",
       "      <td>2</td>\n",
       "      <td>3</td>\n",
       "      <td>44990</td>\n",
       "      <td>0</td>\n",
       "      <td>0</td>\n",
       "      <td>1</td>\n",
       "      <td>0</td>\n",
       "      <td>1</td>\n",
       "      <td>0</td>\n",
       "    </tr>\n",
       "    <tr>\n",
       "      <th>720</th>\n",
       "      <td>5</td>\n",
       "      <td>1</td>\n",
       "      <td>2</td>\n",
       "      <td>1</td>\n",
       "      <td>8</td>\n",
       "      <td>1</td>\n",
       "      <td>512</td>\n",
       "      <td>0</td>\n",
       "      <td>4</td>\n",
       "      <td>0</td>\n",
       "      <td>0</td>\n",
       "      <td>2</td>\n",
       "      <td>64990</td>\n",
       "      <td>48</td>\n",
       "      <td>12</td>\n",
       "      <td>0</td>\n",
       "      <td>1</td>\n",
       "      <td>0</td>\n",
       "      <td>1</td>\n",
       "    </tr>\n",
       "    <tr>\n",
       "      <th>721</th>\n",
       "      <td>6</td>\n",
       "      <td>1</td>\n",
       "      <td>2</td>\n",
       "      <td>0</td>\n",
       "      <td>8</td>\n",
       "      <td>4</td>\n",
       "      <td>0</td>\n",
       "      <td>512</td>\n",
       "      <td>0</td>\n",
       "      <td>8</td>\n",
       "      <td>0</td>\n",
       "      <td>3</td>\n",
       "      <td>179990</td>\n",
       "      <td>24</td>\n",
       "      <td>5</td>\n",
       "      <td>1</td>\n",
       "      <td>0</td>\n",
       "      <td>1</td>\n",
       "      <td>0</td>\n",
       "    </tr>\n",
       "    <tr>\n",
       "      <th>722</th>\n",
       "      <td>1</td>\n",
       "      <td>1</td>\n",
       "      <td>1</td>\n",
       "      <td>1</td>\n",
       "      <td>8</td>\n",
       "      <td>1</td>\n",
       "      <td>512</td>\n",
       "      <td>0</td>\n",
       "      <td>4</td>\n",
       "      <td>0</td>\n",
       "      <td>2</td>\n",
       "      <td>0</td>\n",
       "      <td>41990</td>\n",
       "      <td>0</td>\n",
       "      <td>0</td>\n",
       "      <td>1</td>\n",
       "      <td>0</td>\n",
       "      <td>0</td>\n",
       "      <td>1</td>\n",
       "    </tr>\n",
       "  </tbody>\n",
       "</table>\n",
       "<p>723 rows × 19 columns</p>\n",
       "</div>"
      ],
      "text/plain": [
       "     brand  processor_brand  processor_name  processor_gnrtn  ram_gb  \\\n",
       "0        1                1               6                1       4   \n",
       "1        1                1               2                0       8   \n",
       "2        1                1               0                1       4   \n",
       "3        5                1               1                1       4   \n",
       "4        4                0               9                1      16   \n",
       "..     ...              ...             ...              ...     ...   \n",
       "718      5                1               1                1       4   \n",
       "719      4                1               1                1       8   \n",
       "720      5                1               2                1       8   \n",
       "721      6                1               2                0       8   \n",
       "722      1                1               1                1       8   \n",
       "\n",
       "     ram_type  ssd  hdd  os  graphic_card_gb  weight  warranty   Price  \\\n",
       "0           5    0  512   4                0       0         3   45990   \n",
       "1           4    0  512   0                4       0         3  106167   \n",
       "2           1    0  512   4                0       0         3   22990   \n",
       "3           1  256    0   4                0       0         0   44990   \n",
       "4           1  512    0   4                2       0         0   79990   \n",
       "..        ...  ...  ...  ..              ...     ...       ...     ...   \n",
       "718         1  256    0   4                0       0         3   39998   \n",
       "719         1  512    0   4                0       2         3   44990   \n",
       "720         1  512    0   4                0       0         2   64990   \n",
       "721         4    0  512   0                8       0         3  179990   \n",
       "722         1  512    0   4                0       2         0   41990   \n",
       "\n",
       "     Number of Ratings  Number of Reviews  Touchscreen_No  Touchscreen_Yes  \\\n",
       "0                    0                  0               1                0   \n",
       "1                 1881                241               1                0   \n",
       "2                    0                  0               1                0   \n",
       "3                   42                  4               1                0   \n",
       "4                   23                  6               1                0   \n",
       "..                 ...                ...             ...              ...   \n",
       "718                 10                  1               1                0   \n",
       "719                  0                  0               1                0   \n",
       "720                 48                 12               0                1   \n",
       "721                 24                  5               1                0   \n",
       "722                  0                  0               1                0   \n",
       "\n",
       "     msoffice_No  msoffice_Yes  \n",
       "0              1             0  \n",
       "1              1             0  \n",
       "2              1             0  \n",
       "3              0             1  \n",
       "4              0             1  \n",
       "..           ...           ...  \n",
       "718            1             0  \n",
       "719            1             0  \n",
       "720            0             1  \n",
       "721            1             0  \n",
       "722            0             1  \n",
       "\n",
       "[723 rows x 19 columns]"
      ]
     },
     "execution_count": 158,
     "metadata": {},
     "output_type": "execute_result"
    }
   ],
   "source": [
    "all_data_encoded.drop(['Touchscreen', 'msoffice'], axis=1, inplace=True)\n",
    "all_data_encoded"
   ]
  },
  {
   "cell_type": "code",
   "execution_count": 159,
   "id": "f95d5fdd",
   "metadata": {},
   "outputs": [
    {
     "name": "stderr",
     "output_type": "stream",
     "text": [
      "d:\\myApps\\anaconda\\lib\\site-packages\\sklearn\\base.py:443: UserWarning: X has feature names, but SelectKBest was fitted without feature names\n",
      "  warnings.warn(\n"
     ]
    }
   ],
   "source": [
    "selected_features = selector.transform(all_data_encoded)\n",
    "normalized_data = normalization(selected_features)"
   ]
  },
  {
   "cell_type": "code",
   "execution_count": 160,
   "id": "b6748d42",
   "metadata": {},
   "outputs": [
    {
     "name": "stdout",
     "output_type": "stream",
     "text": [
      "test_logReg:  0.8990318118948825\n"
     ]
    }
   ],
   "source": [
    "prediction = ogreg_ms2.predict(normalized_data)\n",
    "print(\"test_logReg: \", metrics.accuracy_score(prediction, y))"
   ]
  },
  {
   "cell_type": "code",
   "execution_count": 161,
   "id": "399611ca",
   "metadata": {},
   "outputs": [
    {
     "name": "stdout",
     "output_type": "stream",
     "text": [
      "test_SVC:  0.8990318118948825\n"
     ]
    }
   ],
   "source": [
    "prediction = svc_classifier.predict(normalized_data)\n",
    "print(\"test_SVC: \",metrics.accuracy_score(prediction, y))"
   ]
  },
  {
   "cell_type": "code",
   "execution_count": 162,
   "id": "d47f5886",
   "metadata": {},
   "outputs": [
    {
     "name": "stdout",
     "output_type": "stream",
     "text": [
      "test_RF:  0.9612724757952974\n"
     ]
    }
   ],
   "source": [
    "prediction = rf_classifier.predict(normalized_data)\n",
    "print(\"test_RF: \",metrics.accuracy_score(prediction, y))"
   ]
  },
  {
   "cell_type": "code",
   "execution_count": null,
   "id": "63f89f0b",
   "metadata": {},
   "outputs": [],
   "source": []
  },
  {
   "cell_type": "code",
   "execution_count": null,
   "id": "5a296424",
   "metadata": {},
   "outputs": [],
   "source": []
  },
  {
   "cell_type": "code",
   "execution_count": null,
   "id": "e769e100",
   "metadata": {},
   "outputs": [],
   "source": []
  }
 ],
 "metadata": {
  "kernelspec": {
   "display_name": "Python 3",
   "language": "python",
   "name": "python3"
  },
  "language_info": {
   "codemirror_mode": {
    "name": "ipython",
    "version": 3
   },
   "file_extension": ".py",
   "mimetype": "text/x-python",
   "name": "python",
   "nbconvert_exporter": "python",
   "pygments_lexer": "ipython3",
   "version": "3.9.12"
  }
 },
 "nbformat": 4,
 "nbformat_minor": 5
}
